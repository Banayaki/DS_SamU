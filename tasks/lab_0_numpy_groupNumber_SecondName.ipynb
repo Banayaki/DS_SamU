{
 "cells": [
  {
   "cell_type": "markdown",
   "metadata": {
    "collapsed": true,
    "pycharm": {
     "name": "#%% md\n"
    }
   },
   "source": [
    "# Лабораторная работа 0\n",
    "Numpy\n",
    "\n",
    "Выполнил: номер группы, фио (изменить имя файла)"
   ]
  },
  {
   "cell_type": "markdown",
   "source": [
    "Лабораторная работа не обязательна для выполнения, но рекомендуется для тех, кто не знаком с библиотекой numpy и работой с многомерными массивами."
   ],
   "metadata": {
    "collapsed": false,
    "pycharm": {
     "name": "#%% md\n"
    }
   }
  },
  {
   "cell_type": "markdown",
   "source": [
    "1 Взять из документации по numpy 12 любых функций / методов / операторов и продемонстрировать их работу. Для каждой функции добавить комментарий."
   ],
   "metadata": {
    "collapsed": false,
    "pycharm": {
     "name": "#%% md\n"
    }
   }
  },
  {
   "cell_type": "code",
   "execution_count": null,
   "outputs": [],
   "source": [],
   "metadata": {
    "collapsed": false,
    "pycharm": {
     "name": "#%%\n"
    }
   }
  },
  {
   "cell_type": "markdown",
   "source": [
    "2 Сгенерировать OLAP-куб, где фиксируем продажи товаров в розничной сети по магазинам.\n",
    "Оси:\n",
    "    0: ID группы товаров\n",
    "    1: ID магазина\n",
    "    2: день месяца, в котором осуществляются продажи (предположим у нас в OLAP-кубе собраны продажи за месяц).\n",
    "\n",
    "Содержимое ячейки: продажи в тыс. рублей данной категории товаров в данном магазине в данный день.\n",
    "\n",
    "Рекомендуется сгенерировать статистически-правдопододные данные в ячейках.\n",
    "К примеру, будет странно, если продажи одной и той же группы товаров в соседние дни будут представлять из себя \"белый шум\". Пусть будет какой-то правдоподобное распределение на ваш вкус.\n",
    "Также продажи одних и тех же групп товаров в разных магазинах не могут отличаться в сотни и тысячи раз, максимум в разы.\n",
    "Подумайте как это обыграть используя различные функции генерации случайных чисел + \"смекалку\"."
   ],
   "metadata": {
    "collapsed": false,
    "pycharm": {
     "name": "#%% md\n"
    }
   }
  },
  {
   "cell_type": "code",
   "execution_count": null,
   "outputs": [],
   "source": [],
   "metadata": {
    "collapsed": false,
    "pycharm": {
     "name": "#%%\n"
    }
   }
  },
  {
   "cell_type": "markdown",
   "source": [
    "3 Для получившегося OLAP-куба посчитать суммарные, средние, минимальные и максимальные продажи (на самом деле любые агрегатные функции можно использовать)зафиксировав значения по одной, двум или трём осям:\n",
    "\n",
    "Например взять какой-то определённый набор товаров и набор городов или диапазон дней и сагрегировать данные по всем ячейкам из зафиксированного набора.\n",
    "Пример: получить сумму, среднее, минимум и максимум по продажам 10-20 чисел месяца для товаров [1,3,4] по всем городам (или по конкретному набору городов).\n",
    "\n",
    "Попробуйте различные варианты индексации и различные варианты срезов, насколько хватит фантазии."
   ],
   "metadata": {
    "collapsed": false,
    "pycharm": {
     "name": "#%% md\n"
    }
   }
  },
  {
   "cell_type": "code",
   "execution_count": null,
   "outputs": [],
   "source": [],
   "metadata": {
    "collapsed": false,
    "pycharm": {
     "name": "#%%\n"
    }
   }
  },
  {
   "cell_type": "code",
   "execution_count": null,
   "outputs": [],
   "source": [],
   "metadata": {
    "collapsed": false,
    "pycharm": {
     "name": "#%%\n"
    }
   }
  },
  {
   "cell_type": "markdown",
   "source": [
    "![olap-cube](http://www.olap.ru/basic/img/alpero2i2.gif)"
   ],
   "metadata": {
    "collapsed": false,
    "pycharm": {
     "name": "#%% md\n"
    }
   }
  },
  {
   "cell_type": "code",
   "execution_count": null,
   "outputs": [],
   "source": [],
   "metadata": {
    "collapsed": false,
    "pycharm": {
     "name": "#%%\n"
    }
   }
  }
 ],
 "metadata": {
  "kernelspec": {
   "display_name": "Python 3",
   "language": "python",
   "name": "python3"
  },
  "language_info": {
   "codemirror_mode": {
    "name": "ipython",
    "version": 2
   },
   "file_extension": ".py",
   "mimetype": "text/x-python",
   "name": "python",
   "nbconvert_exporter": "python",
   "pygments_lexer": "ipython2",
   "version": "2.7.6"
  }
 },
 "nbformat": 4,
 "nbformat_minor": 0
}